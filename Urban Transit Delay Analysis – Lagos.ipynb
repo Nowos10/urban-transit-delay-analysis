{
 "cells": [
  {
   "cell_type": "markdown",
   "id": "2adc6e30-0615-4626-89ea-fa352ca102fa",
   "metadata": {},
   "source": [
    "# **Loading and Cleaning the Dataset**"
   ]
  },
  {
   "cell_type": "code",
   "execution_count": 2,
   "id": "56dcee14-388a-4204-a71e-8eaff3b35857",
   "metadata": {},
   "outputs": [
    {
     "name": "stdout",
     "output_type": "stream",
     "text": [
      "     Trip_ID Route_ID Bus_Stop_ID    Scheduled_Arrival       Actual_Arrival  \\\n",
      "0  TRIP00001  LAG-101         CMS  2024-01-01 14:23:00  2024-01-01 14:23:00   \n",
      "1  TRIP00002  LAG-101   Ojuelegba  2024-01-02 01:09:00  2024-01-02 01:19:00   \n",
      "2  TRIP00003  LAG-101       Ikeja  2024-01-01 12:56:00  2024-01-01 12:56:00   \n",
      "3  TRIP00004  LAG-102       Lekki  2024-01-01 12:31:00  2024-01-01 12:31:00   \n",
      "4  TRIP00005  LAG-102       Lekki  2024-01-01 16:36:00  2024-01-01 16:38:00   \n",
      "\n",
      "   Delay_Minutes  Passenger_Count Day_of_Week Weather_Condition  Latitude  \\\n",
      "0              0               23     Tuesday             Rainy  6.457299   \n",
      "1             10               44    Thursday             Sunny  6.535195   \n",
      "2              0               31      Friday             Sunny  6.462096   \n",
      "3              0               32    Thursday             Foggy  6.505590   \n",
      "4              2               33   Wednesday             Rainy  6.494113   \n",
      "\n",
      "   Longitude     Bus_Type  \n",
      "0   3.339874     Standard  \n",
      "1   3.450372     Standard  \n",
      "2   3.381721  Articulated  \n",
      "3   3.379509     Standard  \n",
      "4   3.407532     Standard  \n"
     ]
    }
   ],
   "source": [
    "# IMPORT LIBRARIES\n",
    "# I’m starting with the basic data analysis libraries\n",
    "import pandas as pd\n",
    "import numpy as np\n",
    "\n",
    "# STEP 2: LOAD THE DATA\n",
    "# I’m loading the transit dataset that simulates Lagos bus operations\n",
    "df = pd.read_csv(\"lagos_transit_data.csv\")\n",
    "\n",
    "# Let’s preview the first few rows to understand the structure\n",
    "print(df.head())\n"
   ]
  },
  {
   "cell_type": "code",
   "execution_count": 7,
   "id": "928c5581-7a3d-4e5f-8c60-0c6901ac2bee",
   "metadata": {},
   "outputs": [],
   "source": [
    "# I want to perform time-series analysis later, so I need to convert the date columns properly\n",
    "df['Scheduled_Arrival'] = pd.to_datetime(df['Scheduled_Arrival'])\n",
    "df['Actual_Arrival'] = pd.to_datetime(df['Actual_Arrival'])\n",
    "\n",
    "# I’ll now extract components like hour, day of week, and month for pattern analysis\n",
    "df['Hour'] = df['Scheduled_Arrival'].dt.hour\n",
    "df['Month'] = df['Scheduled_Arrival'].dt.month\n",
    "df['Weekday'] = df['Scheduled_Arrival'].dt.day_name()\n"
   ]
  },
  {
   "cell_type": "code",
   "execution_count": 8,
   "id": "f661f841-a101-4f2f-8069-3012e7628f2e",
   "metadata": {},
   "outputs": [],
   "source": [
    "# I want to know if a trip was delayed or not (binary)\n",
    "df['Delay_Flag'] = df['Delay_Minutes'].apply(lambda x: 1 if x > 0 else 0)\n",
    "\n",
    "# I’ll also classify delays into buckets to see if we’re dealing with short vs long delays\n",
    "def categorize_delay(minutes):\n",
    "    if minutes == 0:\n",
    "        return 'No Delay'\n",
    "    elif minutes <= 5:\n",
    "        return 'Short'\n",
    "    elif minutes <= 10:\n",
    "        return 'Medium'\n",
    "    else:\n",
    "        return 'Long'\n",
    "\n",
    "df['Delay_Category'] = df['Delay_Minutes'].apply(categorize_delay)\n"
   ]
  },
  {
   "cell_type": "code",
   "execution_count": 9,
   "id": "0a2b0935-9861-4632-9141-5947812a7278",
   "metadata": {},
   "outputs": [
    {
     "name": "stdout",
     "output_type": "stream",
     "text": [
      "Missing values:\n",
      " Trip_ID              0\n",
      "Route_ID             0\n",
      "Bus_Stop_ID          0\n",
      "Scheduled_Arrival    0\n",
      "Actual_Arrival       0\n",
      "Delay_Minutes        0\n",
      "Passenger_Count      0\n",
      "Day_of_Week          0\n",
      "Weather_Condition    0\n",
      "Latitude             0\n",
      "Longitude            0\n",
      "Bus_Type             0\n",
      "Hour                 0\n",
      "Month                0\n",
      "Weekday              0\n",
      "Delay_Flag           0\n",
      "Delay_Category       0\n",
      "dtype: int64\n",
      "Duplicate rows: 0\n"
     ]
    }
   ],
   "source": [
    "# Just a quick check to ensure our dataset is clean and doesn't contain missing or duplicated data\n",
    "print(\"Missing values:\\n\", df.isnull().sum())\n",
    "print(\"Duplicate rows:\", df.duplicated().sum())\n"
   ]
  },
  {
   "cell_type": "code",
   "execution_count": 10,
   "id": "7c42497a-2915-4fb4-8884-7b3d849da40a",
   "metadata": {},
   "outputs": [],
   "source": [
    "# If I need to use this version for Power BI or future use, I’ll export it\n",
    "df.to_csv(\"lagos_transit_cleaned.csv\", index=False)\n"
   ]
  },
  {
   "cell_type": "markdown",
   "id": "f6d31a25-faca-4300-8c6c-376940c9bb7f",
   "metadata": {},
   "source": [
    "# **Exploratory Data Analysis (EDA)**"
   ]
  },
  {
   "cell_type": "code",
   "execution_count": 11,
   "id": "a5c444f0-7d7a-40a2-8bb4-75cdd7c38641",
   "metadata": {},
   "outputs": [
    {
     "name": "stdout",
     "output_type": "stream",
     "text": [
      "Summary of Delay (in minutes):\n",
      "count    2000.000000\n",
      "mean        3.434000\n",
      "std         5.715503\n",
      "min         0.000000\n",
      "25%         0.000000\n",
      "50%         0.000000\n",
      "75%         5.000000\n",
      "max        20.000000\n",
      "Name: Delay_Minutes, dtype: float64\n",
      "\n",
      "Summary of Passenger Count:\n",
      "count    2000.000000\n",
      "mean       38.859000\n",
      "std        14.725778\n",
      "min         0.000000\n",
      "25%        29.000000\n",
      "50%        39.000000\n",
      "75%        49.000000\n",
      "max        86.000000\n",
      "Name: Passenger_Count, dtype: float64\n"
     ]
    }
   ],
   "source": [
    "# Summary Statistics\n",
    "# I’ll start by checking the general distribution of delay and passenger data.\n",
    "print(\"Summary of Delay (in minutes):\")\n",
    "print(df['Delay_Minutes'].describe())\n",
    "\n",
    "print(\"\\nSummary of Passenger Count:\")\n",
    "print(df['Passenger_Count'].describe())\n"
   ]
  },
  {
   "cell_type": "code",
   "execution_count": 12,
   "id": "bd8e06e4-7783-405f-a397-2b2a73845cf4",
   "metadata": {},
   "outputs": [
    {
     "name": "stdout",
     "output_type": "stream",
     "text": [
      "\n",
      "Delay Category Distribution:\n",
      "Delay_Category\n",
      "No Delay    1220\n",
      "Short        379\n",
      "Medium       204\n",
      "Long         197\n",
      "Name: count, dtype: int64\n"
     ]
    }
   ],
   "source": [
    "# Most Common Delay Categories\n",
    "# Let’s see how delays are distributed across categories: No Delay, Short, Medium, Long\n",
    "delay_counts = df['Delay_Category'].value_counts()\n",
    "print(\"\\nDelay Category Distribution:\")\n",
    "print(delay_counts)\n"
   ]
  },
  {
   "cell_type": "code",
   "execution_count": null,
   "id": "68e6e409-7dbe-4733-b23d-872a9a35f352",
   "metadata": {},
   "outputs": [],
   "source": [
    "# Average Delay by Hour of Day\n",
    "# I want to know what time of day delays are most frequent — this can inform scheduling changes.\n",
    "avg_delay_by_hour = df.groupby('Hour')['Delay_Minutes'].mean().sort_index()\n",
    "print(\"\\nAverage Delay by Hour of Day:\")\n",
    "print(avg_delay_by_hour)\n"
   ]
  },
  {
   "cell_type": "code",
   "execution_count": 14,
   "id": "057ef4e7-55ca-4ade-8dd9-25ae31a00936",
   "metadata": {},
   "outputs": [
    {
     "name": "stdout",
     "output_type": "stream",
     "text": [
      "\n",
      "Average Delay by Bus Type:\n",
      "Bus_Type\n",
      "Articulated    3.570336\n",
      "Mini           3.338192\n",
      "Standard       3.398485\n",
      "Name: Delay_Minutes, dtype: float64\n"
     ]
    }
   ],
   "source": [
    "# Average Delay by Bus Type\n",
    "# I suspect bus size/type might affect delay rates due to speed or capacity. Let's check.\n",
    "avg_delay_by_bus_type = df.groupby('Bus_Type')['Delay_Minutes'].mean()\n",
    "print(\"\\nAverage Delay by Bus Type:\")\n",
    "print(avg_delay_by_bus_type)\n"
   ]
  },
  {
   "cell_type": "code",
   "execution_count": 15,
   "id": "bb4a449d-f69c-487b-aae2-98569b915a7b",
   "metadata": {},
   "outputs": [
    {
     "name": "stdout",
     "output_type": "stream",
     "text": [
      "\n",
      "Average Delay by Weather Condition:\n",
      "Weather_Condition\n",
      "Cloudy    3.129482\n",
      "Foggy     3.730382\n",
      "Rainy     3.666667\n",
      "Sunny     3.217391\n",
      "Name: Delay_Minutes, dtype: float64\n"
     ]
    }
   ],
   "source": [
    "# Impact of Weather on Delays\n",
    "# Weather is likely a factor in delays, especially rain or fog.\n",
    "avg_delay_by_weather = df.groupby('Weather_Condition')['Delay_Minutes'].mean()\n",
    "print(\"\\nAverage Delay by Weather Condition:\")\n",
    "print(avg_delay_by_weather)\n"
   ]
  },
  {
   "cell_type": "code",
   "execution_count": 16,
   "id": "b1095ad1-f9ec-4ec5-8dce-0a6c4fade88a",
   "metadata": {},
   "outputs": [
    {
     "name": "stdout",
     "output_type": "stream",
     "text": [
      "\n",
      "Average Delay by Route:\n",
      "Route_ID\n",
      "LAG-201    3.542787\n",
      "LAG-301    3.482100\n",
      "LAG-101    3.474531\n",
      "LAG-202    3.410891\n",
      "LAG-102    3.255696\n",
      "Name: Delay_Minutes, dtype: float64\n"
     ]
    }
   ],
   "source": [
    "# Route Performance Overview\n",
    "# I want to identify which routes are most delayed overall.\n",
    "route_delay = df.groupby('Route_ID')['Delay_Minutes'].mean().sort_values(ascending=False)\n",
    "print(\"\\nAverage Delay by Route:\")\n",
    "print(route_delay)\n"
   ]
  }
 ],
 "metadata": {
  "kernelspec": {
   "display_name": "Python 3 (ipykernel)",
   "language": "python",
   "name": "python3"
  },
  "language_info": {
   "codemirror_mode": {
    "name": "ipython",
    "version": 3
   },
   "file_extension": ".py",
   "mimetype": "text/x-python",
   "name": "python",
   "nbconvert_exporter": "python",
   "pygments_lexer": "ipython3",
   "version": "3.13.3"
  }
 },
 "nbformat": 4,
 "nbformat_minor": 5
}
